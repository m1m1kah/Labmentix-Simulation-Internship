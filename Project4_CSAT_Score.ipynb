{
  "cells": [
    {
      "cell_type": "markdown",
      "metadata": {
        "id": "vncDsAP0Gaoa"
      },
      "source": [
        "# **Project Name**    - Predict CSAT scores\n",
        "\n"
      ]
    },
    {
      "cell_type": "markdown",
      "metadata": {
        "id": "beRrZCGUAJYm"
      },
      "source": [
        "##### **Project Type**    - EDA/Regression/Classification/Unsupervised\n"
      ]
    },
    {
      "cell_type": "markdown",
      "metadata": {
        "id": "FJNUwmbgGyua"
      },
      "source": [
        "# **Project Summary -**"
      ]
    },
    {
      "cell_type": "markdown",
      "metadata": {
        "id": "F6v_1wHtG2nS"
      },
      "source": [
        "AIM - to forecast CSAT scores\n",
        "\n",
        "The goal is to develop a deep learning model that predicts CSAT (Customer Satisfaction) scores based on customer interactions and feedback.\n",
        "The aim is to help e-commerce businesses monitor and improve customer satisfaction in real-time, enhancing service quality and fostering loyalty."
      ]
    },
    {
      "cell_type": "markdown",
      "metadata": {
        "id": "w6K7xa23Elo4"
      },
      "source": [
        "# **GitHub Link -**"
      ]
    },
    {
      "cell_type": "markdown",
      "metadata": {
        "id": "h1o69JH3Eqqn"
      },
      "source": [
        "Provide your GitHub Link here."
      ]
    },
    {
      "cell_type": "markdown",
      "metadata": {
        "id": "mDgbUHAGgjLW"
      },
      "source": [
        "# **General Guidelines** : -  "
      ]
    },
    {
      "cell_type": "markdown",
      "metadata": {
        "id": "ZrxVaUj-hHfC"
      },
      "source": [
        "1.   Well-structured, formatted, and commented code is required.\n",
        "2.   Exception Handling, Production Grade Code & Deployment Ready Code will be a plus. Those students will be awarded some additional credits.\n",
        "     \n",
        "     The additional credits will have advantages over other students during Star Student selection.\n",
        "       \n",
        "             [ Note: - Deployment Ready Code is defined as, the whole .ipynb notebook should be executable in one go\n",
        "                       without a single error logged. ]\n",
        "\n",
        "3.   Each and every logic should have proper comments.\n",
        "4. You may add as many number of charts you want. Make Sure for each and every chart the following format should be answered.\n",
        "        \n",
        "\n",
        "```\n",
        "# Chart visualization code\n",
        "```\n",
        "            \n",
        "\n",
        "*   Why did you pick the specific chart?\n",
        "*   What is/are the insight(s) found from the chart?\n",
        "* Will the gained insights help creating a positive business impact?\n",
        "Are there any insights that lead to negative growth? Justify with specific reason.\n",
        "\n",
        "5. You have to create at least 15 logical & meaningful charts having important insights.\n",
        "\n",
        "\n",
        "[ Hints : - Do the Vizualization in  a structured way while following \"UBM\" Rule.\n",
        "\n",
        "U - Univariate Analysis,\n",
        "\n",
        "B - Bivariate Analysis (Numerical - Categorical, Numerical - Numerical, Categorical - Categorical)\n",
        "\n",
        "M - Multivariate Analysis\n",
        " ]\n",
        "\n",
        "\n",
        "\n",
        "\n",
        "\n",
        "6. You may add more ml algorithms for model creation. Make sure for each and every algorithm, the following format should be answered.\n",
        "\n",
        "\n",
        "*   Explain the ML Model used and it's performance using Evaluation metric Score Chart.\n",
        "\n",
        "\n",
        "*   Cross- Validation & Hyperparameter Tuning\n",
        "\n",
        "*   Have you seen any improvement? Note down the improvement with updates Evaluation metric Score Chart.\n",
        "\n",
        "*   Explain each evaluation metric's indication towards business and the business impact pf the ML model used.\n",
        "\n",
        "\n",
        "\n",
        "\n",
        "\n",
        "\n",
        "\n",
        "\n",
        "\n",
        "\n",
        "\n",
        "\n",
        "\n",
        "\n",
        "\n",
        "\n",
        "\n",
        "\n"
      ]
    },
    {
      "cell_type": "markdown",
      "metadata": {
        "id": "O_i_v8NEhb9l"
      },
      "source": [
        "# ***Let's Begin !***"
      ]
    },
    {
      "cell_type": "markdown",
      "metadata": {
        "id": "HhfV-JJviCcP"
      },
      "source": [
        "## ***1. Know Your Data***"
      ]
    },
    {
      "cell_type": "code",
      "execution_count": null,
      "metadata": {
        "id": "nD1dDtVVppfL"
      },
      "outputs": [],
      "source": [
        "\n",
        "from google.colab import files\n",
        "uploaded = files.upload()  # This will open a file picker to upload files"
      ]
    },
    {
      "cell_type": "markdown",
      "metadata": {
        "id": "Y3lxredqlCYt"
      },
      "source": [
        "### Import Libraries"
      ]
    },
    {
      "cell_type": "code",
      "source": [
        "!pip install tensorflow"
      ],
      "metadata": {
        "id": "Yk9PeXOGN0JY"
      },
      "execution_count": null,
      "outputs": []
    },
    {
      "cell_type": "code",
      "execution_count": null,
      "metadata": {
        "id": "M8Vqi-pPk-HR"
      },
      "outputs": [],
      "source": [
        "# Import Libraries\n",
        "import pandas as pd\n",
        "import numpy as np\n",
        "import seaborn as sns\n",
        "import matplotlib.pyplot as plt\n",
        "import numpy as np\n",
        "from sklearn.preprocessing import LabelEncoder, MinMaxScaler\n",
        "from sklearn.model_selection import train_test_split\n",
        "from tensorflow.keras.models import Sequential\n",
        "from tensorflow.keras.layers import LSTM, GRU, Dense, Dropout\n",
        "from tensorflow.keras.callbacks import EarlyStopping"
      ]
    },
    {
      "cell_type": "markdown",
      "metadata": {
        "id": "3RnN4peoiCZX"
      },
      "source": [
        "### Dataset Loading"
      ]
    },
    {
      "cell_type": "code",
      "execution_count": null,
      "metadata": {
        "id": "4CkvbW_SlZ_R"
      },
      "outputs": [],
      "source": [
        "# Load Dataset\n",
        "data = pd.read_csv(r\"eCommerce_Customer_support_data.csv\")"
      ]
    },
    {
      "cell_type": "markdown",
      "metadata": {
        "id": "x71ZqKXriCWQ"
      },
      "source": [
        "### Dataset First View"
      ]
    },
    {
      "cell_type": "code",
      "execution_count": null,
      "metadata": {
        "id": "LWNFOSvLl09H"
      },
      "outputs": [],
      "source": [
        "# Dataset First Look\n",
        "data.head()"
      ]
    },
    {
      "cell_type": "markdown",
      "metadata": {
        "id": "7hBIi_osiCS2"
      },
      "source": [
        "### Dataset Rows & Columns count"
      ]
    },
    {
      "cell_type": "code",
      "execution_count": null,
      "metadata": {
        "id": "Kllu7SJgmLij"
      },
      "outputs": [],
      "source": [
        "# Dataset Rows & Columns count\n",
        "data.shape"
      ]
    },
    {
      "cell_type": "code",
      "execution_count": null,
      "metadata": {
        "id": "e9hRXRi6meOf"
      },
      "outputs": [],
      "source": [
        "# Dataset Info\n",
        "data.info()"
      ]
    },
    {
      "cell_type": "markdown",
      "metadata": {
        "id": "35m5QtbWiB9F"
      },
      "source": [
        "#### Duplicate Values"
      ]
    },
    {
      "cell_type": "code",
      "execution_count": null,
      "metadata": {
        "id": "1sLdpKYkmox0"
      },
      "outputs": [],
      "source": [
        "# Dataset Duplicate Value Count\n",
        "data.duplicated().sum()"
      ]
    },
    {
      "cell_type": "markdown",
      "metadata": {
        "id": "PoPl-ycgm1ru"
      },
      "source": [
        "#### Missing Values/Null Values"
      ]
    },
    {
      "cell_type": "code",
      "execution_count": null,
      "metadata": {
        "id": "GgHWkxvamxVg"
      },
      "outputs": [],
      "source": [
        "# Missing Values/Null Values Count\n",
        "data.isnull().sum()"
      ]
    },
    {
      "cell_type": "markdown",
      "metadata": {
        "id": "nA9Y7ga8ng1Z"
      },
      "source": [
        "## ***2. Understanding Your Variables***"
      ]
    },
    {
      "cell_type": "code",
      "execution_count": null,
      "metadata": {
        "id": "j7xfkqrt5Ag5"
      },
      "outputs": [],
      "source": [
        "# Dataset Columns\n",
        "data.columns"
      ]
    },
    {
      "cell_type": "code",
      "execution_count": null,
      "metadata": {
        "id": "DnOaZdaE5Q5t"
      },
      "outputs": [],
      "source": [
        "# Dataset Describe\n",
        "data.describe()"
      ]
    },
    {
      "cell_type": "markdown",
      "metadata": {
        "id": "dauF4eBmngu3"
      },
      "source": [
        "## 3. ***Data Wrangling***"
      ]
    },
    {
      "cell_type": "markdown",
      "metadata": {
        "id": "bKJF3rekwFvQ"
      },
      "source": [
        "### Data Wrangling Code"
      ]
    },
    {
      "cell_type": "code",
      "execution_count": null,
      "metadata": {
        "id": "xlTYLzfPJtQ8"
      },
      "outputs": [],
      "source": [
        "columns_to_drop = ['Customer Remarks', 'Order_id', 'order_date_time','Customer_City',\n",
        "       'Product_category', 'Item_price','connected_handling_time','Unique id']\n",
        "\n",
        "data = data.drop(columns = columns_to_drop, axis = 1)\n",
        "data.head()"
      ]
    },
    {
      "cell_type": "code",
      "execution_count": null,
      "metadata": {
        "id": "7yRRBcUKLFBv"
      },
      "outputs": [],
      "source": [
        "data.isnull().sum()"
      ]
    },
    {
      "cell_type": "code",
      "execution_count": null,
      "metadata": {
        "id": "wk-9a2fpoLcV"
      },
      "outputs": [],
      "source": [
        "# Convert dates to datetime\n",
        "data['Survey_response_Date'] = pd.to_datetime(data['Survey_response_Date'], dayfirst=True)\n",
        "data = data.sort_values('Survey_response_Date')"
      ]
    },
    {
      "cell_type": "code",
      "execution_count": null,
      "metadata": {
        "id": "HkG2rc0Tv7wc"
      },
      "outputs": [],
      "source": [
        "data.head()"
      ]
    },
    {
      "cell_type": "markdown",
      "metadata": {
        "id": "LbyXE7I1olp8"
      },
      "source": [
        "Answer Here."
      ]
    },
    {
      "cell_type": "markdown",
      "metadata": {
        "id": "GF8Ens_Soomf"
      },
      "source": [
        "## ***4. Data Vizualization, Storytelling & Experimenting with charts : Understand the relationships between variables***"
      ]
    },
    {
      "cell_type": "markdown",
      "metadata": {
        "id": "0wOQAZs5pc--"
      },
      "source": [
        "#### Chart - 1"
      ]
    },
    {
      "cell_type": "code",
      "execution_count": null,
      "metadata": {
        "id": "7v_ESjsspbW7"
      },
      "outputs": [],
      "source": [
        "# Assuming your cleaned DataFrame is named 'data'\n",
        "plt.figure(figsize=(6, 4))\n",
        "\n",
        "# Create bar chart of channel counts\n",
        "data['channel_name'].value_counts().plot(kind='bar', color='skyblue', edgecolor='black')\n",
        "\n",
        "# Add labels and title\n",
        "plt.title('Number of Records by Channel', fontsize=14)\n",
        "plt.xlabel('Channel Name', fontsize=12)\n",
        "plt.ylabel('Count', fontsize=12)\n",
        "plt.xticks(rotation=0)\n",
        "plt.tight_layout()\n",
        "\n",
        "plt.show()"
      ]
    },
    {
      "cell_type": "markdown",
      "metadata": {
        "id": "K5QZ13OEpz2H"
      },
      "source": [
        "##### 1. Why did you pick the specific chart? What are the insights? Does this have a positive business impact?"
      ]
    },
    {
      "cell_type": "markdown",
      "metadata": {
        "id": "XESiWehPqBRc"
      },
      "source": [
        "I chose a bar chart to visualise the number of records that were inbound vs outcall vs email. We can see most records were inbound calls showing how most of the records are from customers or consumers interested in shopzilla and its relatead products. The business could try to increase the number of outbound calls to try to expand customer base."
      ]
    },
    {
      "cell_type": "markdown",
      "metadata": {
        "id": "KSlN3yHqYklG"
      },
      "source": [
        "#### Chart - 2"
      ]
    },
    {
      "cell_type": "code",
      "execution_count": null,
      "metadata": {
        "id": "R4YgtaqtYklH"
      },
      "outputs": [],
      "source": [
        "# Chart - 2 visualization code\n",
        "# Assuming your cleaned DataFrame is named 'data'\n",
        "plt.figure(figsize=(10, 4))\n",
        "\n",
        "# Plot only the top 5 categories\n",
        "data['category'].value_counts().head(5).plot(kind='bar', color='lightblue', edgecolor='black')\n",
        "\n",
        "# Add labels and title\n",
        "plt.title('Top 5 Categories ', fontsize=14)\n",
        "plt.xlabel('Category Name', fontsize=12)\n",
        "plt.ylabel('Count', fontsize=12)\n",
        "plt.xticks(rotation=0)\n",
        "plt.tight_layout()\n",
        "\n",
        "plt.show()"
      ]
    },
    {
      "cell_type": "markdown",
      "metadata": {
        "id": "t6dVpIINYklI"
      },
      "source": [
        "##### 1. Why did you pick the specific chart? What are the insights? Does this have a positive business impact?"
      ]
    },
    {
      "cell_type": "markdown",
      "metadata": {
        "id": "5aaW0BYyYklI"
      },
      "source": [
        "I chose a bar chart here to visualise what the category of each interaction was. Most were returns related meaning customers are returning a lot of products on shopzilla/ have lots of calls pertaining to the returns of their products. The business could try to look further into why so many customer service records are to do with returns and how that can be rectified so the busines can increase profits and sales."
      ]
    },
    {
      "cell_type": "markdown",
      "metadata": {
        "id": "EM7whBJCYoAo"
      },
      "source": [
        "#### Chart - 3"
      ]
    },
    {
      "cell_type": "code",
      "execution_count": null,
      "metadata": {
        "id": "t6GMdE67YoAp"
      },
      "outputs": [],
      "source": [
        "# Chart - 3 visualization code\n",
        "\n",
        "\n",
        "# Convert to datetime with dayfirst=True\n",
        "data['Issue_reported at'] = pd.to_datetime(data['Issue_reported at'], dayfirst=True, errors='coerce')\n",
        "data['issue_responded'] = pd.to_datetime(data['issue_responded'], dayfirst=True, errors='coerce')\n",
        "\n",
        "# Calculate time difference in minutes\n",
        "data['time_to_respond'] = (data['issue_responded'] - data['Issue_reported at']).dt.total_seconds() / 60\n",
        "data = data[data['time_to_respond'] >= 0]\n",
        "\n",
        "\n",
        "\n",
        "plt.figure(figsize=(8, 5))\n",
        "plt.hist(data['time_to_respond'].dropna(), bins=30, color='lightcyan', edgecolor='black')\n",
        "# Limit x-axis from 0 to 1000 minutes\n",
        "plt.xlim(0, 1000)\n",
        "plt.title('Distribution of Time to Respond', fontsize=14)\n",
        "plt.xlabel('Response Time (minutes)', fontsize=12)\n",
        "plt.ylabel('Frequency', fontsize=12)\n",
        "plt.tight_layout()\n",
        "plt.show()\n",
        "\n"
      ]
    },
    {
      "cell_type": "markdown",
      "metadata": {
        "id": "fge-S5ZAYoAp"
      },
      "source": [
        "##### 1. Why did you pick the specific chart? What are the insights? Does this have a positive business impact?"
      ]
    },
    {
      "cell_type": "markdown",
      "metadata": {
        "id": "5dBItgRVYoAp"
      },
      "source": [
        "I wanted to visualise the response time as a distribution so we can look at what the most common response times were/ variance of the response times. Here we can see more response times are between 0 and 200 minutes meaning most customer service enquiries were responded to within a few hours which is great for the business. However, there are still quite a few records that have much longer response times and the business could conduct further analysis on why this is and whether these longer response times had an affect on the individual customer satisfaction scores."
      ]
    },
    {
      "cell_type": "markdown",
      "metadata": {
        "id": "4Of9eVA-YrdM"
      },
      "source": [
        "#### Chart - 4 and 5"
      ]
    },
    {
      "cell_type": "code",
      "execution_count": null,
      "metadata": {
        "id": "irlUoxc8YrdO"
      },
      "outputs": [],
      "source": [
        "# Chart - 4 visualization code\n",
        "# Create figure with 2 subplots side by side\n",
        "fig, axes = plt.subplots(1, 2, figsize=(12, 6))\n",
        "\n",
        "#  Pie Chart 1: Agent Shift\n",
        "data['Agent Shift'].value_counts().plot(\n",
        "    kind='pie',\n",
        "    ax=axes[0],\n",
        "    autopct='%1.1f%%',\n",
        "    startangle=90,\n",
        "    colors=['skyblue', 'lightgreen', 'lightcoral', 'gold'],\n",
        "    wedgeprops={'edgecolor': 'black'}\n",
        ")\n",
        "axes[0].set_title('Distribution of Agent Shifts', fontsize=14)\n",
        "axes[0].set_ylabel('')  # Remove y-label for cleaner look\n",
        "\n",
        "# Pie Chart 2: CSAT Score\n",
        "data['CSAT Score'].value_counts().sort_index().plot(\n",
        "    kind='pie',\n",
        "    ax=axes[1],\n",
        "    autopct='%1.1f%%',\n",
        "    startangle=90,\n",
        "    colors=['gold', 'lightcoral', 'lightskyblue', 'lightgreen', 'orchid'],\n",
        "    wedgeprops={'edgecolor': 'black'}\n",
        ")\n",
        "axes[1].set_title('Distribution of CSAT Scores', fontsize=14)\n",
        "axes[1].set_ylabel('')  # Remove y-label for cleaner look\n",
        "\n",
        "plt.tight_layout()\n",
        "plt.show()"
      ]
    },
    {
      "cell_type": "markdown",
      "metadata": {
        "id": "iky9q4vBYrdO"
      },
      "source": [
        "##### 1. Why did you pick the specific chart? What are the insights? Does this have a positive business impact?"
      ]
    },
    {
      "cell_type": "markdown",
      "metadata": {
        "id": "aJRCwT6DYrdO"
      },
      "source": [
        "I chose pie charts here to visualise the propotions of each feature (CSAT score and Agent Shifts). In the first pie chart we can see most of the records were dealt with agents who had morning shifts and evening shifts whereas a very small number of records were dealt with at night. The business could look into implementing a chatbot etc. into the ecommerce website to improve response times for customres are night. On the right, we can see most customer satisfaction scores are 5 then the second most frequent score is 4. This is a good indicator that most customers are satisfied with the business's customer service."
      ]
    },
    {
      "cell_type": "markdown",
      "metadata": {
        "id": "bamQiAODYuh1"
      },
      "source": [
        "#### Chart - 6"
      ]
    },
    {
      "cell_type": "code",
      "execution_count": null,
      "metadata": {
        "id": "TIJwrbroYuh3"
      },
      "outputs": [],
      "source": [
        "# Chart - 5 visualization code\n",
        "plt.figure(figsize=(10, 4))\n",
        "\n",
        "# Create bar chart of channel counts\n",
        "data['Manager'].value_counts().plot(kind='bar', color='lightgreen', edgecolor='black')\n",
        "\n",
        "# Add labels and title\n",
        "plt.title('No. Records by Manager', fontsize=14)\n",
        "plt.xlabel('Manager', fontsize=12)\n",
        "plt.ylabel('Count', fontsize=12)\n",
        "plt.xticks(rotation=0)\n",
        "plt.tight_layout()\n",
        "\n",
        "plt.show()"
      ]
    },
    {
      "cell_type": "markdown",
      "metadata": {
        "id": "QHF8YVU7Yuh3"
      },
      "source": [
        "##### 1. Why did you pick the specific chart? What are the insights? Does this have a positive business impact?"
      ]
    },
    {
      "cell_type": "markdown",
      "metadata": {
        "id": "dcxuIMRPYuh3"
      },
      "source": [
        "Here I picked a bar chart to visualise which manager dealt with the most records. Here we can see John Smith is the manager who dealt with the most records. The business could look into why Olivia Tan and other Managers not shown here aren't dealing with as many records."
      ]
    },
    {
      "cell_type": "markdown",
      "metadata": {
        "id": "OH-pJp9IphqM"
      },
      "source": [
        "#### Chart - 7"
      ]
    },
    {
      "cell_type": "code",
      "execution_count": null,
      "metadata": {
        "id": "kuRf4wtuphqN"
      },
      "outputs": [],
      "source": [
        "# Chart - 6 visualization code\n",
        "plt.figure(figsize=(10, 4))\n",
        "\n",
        "# Create bar chart of channel counts\n",
        "data['Supervisor'].value_counts().head(5).plot(kind='bar', color='skyblue', edgecolor='black')\n",
        "\n",
        "# Add labels and title\n",
        "plt.title(' Top 5 Supervisors by Records', fontsize=14)\n",
        "plt.xlabel('Supervisor', fontsize=12)\n",
        "plt.ylabel('Count', fontsize=12)\n",
        "plt.xticks(rotation=0)\n",
        "plt.tight_layout()\n",
        "\n",
        "plt.show()"
      ]
    },
    {
      "cell_type": "markdown",
      "metadata": {
        "id": "loh7H2nzphqN"
      },
      "source": [
        "##### 1. Why did you pick the specific chart? What are the insights? Does this have a positive business impact?"
      ]
    },
    {
      "cell_type": "markdown",
      "metadata": {
        "id": "DeIg-GgVv7wl"
      },
      "source": [
        "I chose this visualisation as i wanted to see who the top 5 supervisors were by record. We can see Carter Park deals with most of the customer serivce enquiries. The business could look into getting these supervisors to train other supervisors to distribute the load and increase the number of enquiries dealt with."
      ]
    },
    {
      "cell_type": "markdown",
      "metadata": {
        "id": "PIIx-8_IphqN"
      },
      "source": [
        "#### Chart - 8"
      ]
    },
    {
      "cell_type": "code",
      "execution_count": null,
      "metadata": {
        "id": "lqAIGUfyphqO"
      },
      "outputs": [],
      "source": [
        "# Chart - 7 visualization code\n",
        "plt.figure(figsize=(10, 4))\n",
        "\n",
        "# Create bar chart of channel counts\n",
        "data['Agent_name'].value_counts().head(5).plot(kind='bar', color='skyblue', edgecolor='black')\n",
        "\n",
        "# Add labels and title\n",
        "plt.title('Top 5 Supervisors by Agent', fontsize=14)\n",
        "plt.xlabel('Agent', fontsize=12)\n",
        "plt.ylabel('Count', fontsize=12)\n",
        "plt.xticks(rotation=0)\n",
        "plt.tight_layout()\n",
        "\n",
        "plt.show()"
      ]
    },
    {
      "cell_type": "markdown",
      "metadata": {
        "id": "t27r6nlMphqO"
      },
      "source": [
        "##### 1. Why did you pick the specific chart? What are the insights? Does this have a positive business impact?"
      ]
    },
    {
      "cell_type": "markdown",
      "metadata": {
        "id": "iv6ro40sphqO"
      },
      "source": [
        "I wanted to visualise the top 5 agents by records. We can see Wendy Taylor dealt with the most records. Again the company could look into why other agents were not peforming as well and how to increase this performance."
      ]
    },
    {
      "cell_type": "markdown",
      "metadata": {
        "id": "BZR9WyysphqO"
      },
      "source": [
        "#### Chart - 9"
      ]
    },
    {
      "cell_type": "code",
      "execution_count": null,
      "metadata": {
        "id": "TdPTWpAVphqO"
      },
      "outputs": [],
      "source": [
        "# Chart - 8 visualization code\n",
        "\n",
        "\n",
        "plt.figure(figsize=(10, 4))\n",
        "\n",
        "# Create bar chart of channel counts\n",
        "data['Tenure Bucket'].value_counts().head(5).plot(kind='bar', color='lightsteelblue', edgecolor='black')\n",
        "\n",
        "# Add labels and title\n",
        "plt.title('Top 5 Supervisors by Agent', fontsize=14)\n",
        "plt.xlabel('Agent', fontsize=12)\n",
        "plt.ylabel('Count', fontsize=12)\n",
        "plt.xticks(rotation=0)\n",
        "plt.tight_layout()\n",
        "\n",
        "plt.show()\n",
        "\n"
      ]
    },
    {
      "cell_type": "markdown",
      "metadata": {
        "id": "jj7wYXLtphqO"
      },
      "source": [
        "##### 1. Why did you pick the specific chart? What are the insights? Does this have a positive business impact?\n"
      ]
    },
    {
      "cell_type": "markdown",
      "metadata": {
        "id": "Ob8u6rCTphqO"
      },
      "source": [
        "I chose this chart to visualise how long an agent had been working. The labels correspond to the following descriptions.\n",
        "\n",
        "    On Job Training = Newly hired, in training\n",
        "    \n",
        "    0-30 = 0 to 30 days employed\n",
        "    \n",
        "    31-60 = 31 to 60 days employed\n",
        "    \n",
        "    61-90 = 61 to 90 days employed\n",
        "    \n",
        "    >90 = More than 90 days employed\n",
        "\n",
        "Here we can see most agents have been employed for more than 90 days. This shows most records are dealt with agents who have experience. However the second most frequent category is the group of agents that are newly hired and are still in training. Due to their lack of experience, they may contribute to the records that have lower customer satisfaction scores hence the business could look into whether there is a correlation between these two factors."
      ]
    },
    {
      "cell_type": "markdown",
      "metadata": {
        "id": "YJ55k-q6phqO"
      },
      "source": [
        "#### Chart - 10"
      ]
    },
    {
      "cell_type": "code",
      "execution_count": null,
      "metadata": {
        "id": "B2aS4O1ophqO"
      },
      "outputs": [],
      "source": [
        "# Chart - 9 visualization code\n",
        "cross = pd.crosstab(data['CSAT Score'], data['Tenure Bucket'])\n",
        "\n",
        "cross.plot(kind='bar', stacked=True, figsize=(8,5), colormap='Set3', edgecolor='black')\n",
        "plt.title('Stacked Bar: How long they have worked there vs communication channel')\n",
        "plt.xlabel('Job Tenure')\n",
        "plt.ylabel('Count')\n",
        "plt.xticks(rotation=45)\n",
        "plt.tight_layout()\n",
        "plt.show()"
      ]
    },
    {
      "cell_type": "markdown",
      "metadata": {
        "id": "gCFgpxoyphqP"
      },
      "source": [
        "##### 1. Why did you pick the specific chart? What are the insights? Does this have a positive business impact?"
      ]
    },
    {
      "cell_type": "markdown",
      "metadata": {
        "id": "TVxDimi2phqP"
      },
      "source": [
        "I chose this chart to visualise CSAT scores split by job tenure. We can see that the higher CSAT scores are mainly achieved by people who have spent more than 90 days on the job and people who are newly hired. This shows that more experience is better and people who are newly hired may put in more effort at first in customer service. The company should look at training and incentives to agents who have worked for between 0-90 days to increase their results with CSAT scores."
      ]
    },
    {
      "cell_type": "markdown",
      "metadata": {
        "id": "U2RJ9gkRphqQ"
      },
      "source": [
        "#### Chart - 11"
      ]
    },
    {
      "cell_type": "code",
      "execution_count": null,
      "metadata": {
        "id": "GM7a4YP4phqQ"
      },
      "outputs": [],
      "source": [
        "# Chart - 10 visualization code\n",
        "plt.figure(figsize=(8,5))\n",
        "sns.countplot(x='Agent Shift', hue='category', data=data)\n",
        "plt.title('Agent Shift vs Category')\n",
        "plt.xlabel('Agent Shift')\n",
        "plt.ylabel('Count')\n",
        "plt.xticks(rotation=45)\n",
        "plt.tight_layout()\n",
        "plt.show()\n"
      ]
    },
    {
      "cell_type": "markdown",
      "metadata": {
        "id": "1M8mcRywphqQ"
      },
      "source": [
        "##### 1. Why did you pick the specific chart? What are the insights? Does this have a positive business impact?"
      ]
    },
    {
      "cell_type": "markdown",
      "metadata": {
        "id": "8agQvks0phqQ"
      },
      "source": [
        "I chose a countplot as I wanted to see what category of customer enquiry was most dealt with at what times. We can see it's evenly split where most enquiries are returns related at all times. The second most relevant enquiry is order related and again this is true for all shift times. This doesn't have immediate positive business impact."
      ]
    },
    {
      "cell_type": "markdown",
      "metadata": {
        "id": "x-EpHcCOp1ci"
      },
      "source": [
        "#### Chart - 12"
      ]
    },
    {
      "cell_type": "code",
      "execution_count": null,
      "metadata": {
        "id": "mAQTIvtqp1cj"
      },
      "outputs": [],
      "source": [
        "# Chart - 11 visualization code\n",
        "cross = pd.crosstab(data['Tenure Bucket'], data['channel_name'])\n",
        "\n",
        "cross.plot(kind='bar', stacked=True, figsize=(8,5), colormap='Set2', edgecolor='black')\n",
        "plt.title('Stacked Bar: How long they have worked there vs communication channel')\n",
        "plt.xlabel('Job Tenure')\n",
        "plt.ylabel('Count')\n",
        "plt.xticks(rotation=45)\n",
        "plt.tight_layout()\n",
        "plt.show()"
      ]
    },
    {
      "cell_type": "markdown",
      "metadata": {
        "id": "X_VqEhTip1ck"
      },
      "source": [
        "##### 1. Why did you pick the specific chart? What are the insights? Does this have a positive business impact?"
      ]
    },
    {
      "cell_type": "markdown",
      "metadata": {
        "id": "-vsMzt_np1ck"
      },
      "source": [
        "I chose this chart to do bivariate analysis between 2 different categorical variables. Here we can see different job tenures split by channel name. This shows us that people who are newly hired make quite a few outbound calls, however people who have worked there for less than 90 days don't make as many outbound calls. The business could look at incentives / goals to make more outbound calls to expand customer base. However if the goal is to improve customer satisfaction, optimisng for email and inbound seems the best option."
      ]
    },
    {
      "cell_type": "markdown",
      "metadata": {
        "id": "druuKYZpp1ck"
      },
      "source": [
        "Answer Here"
      ]
    },
    {
      "cell_type": "markdown",
      "metadata": {
        "id": "n3dbpmDWp1ck"
      },
      "source": [
        "#### Chart - 13"
      ]
    },
    {
      "cell_type": "code",
      "execution_count": null,
      "metadata": {
        "id": "bwevp1tKp1ck"
      },
      "outputs": [],
      "source": [
        "# Chart - 12 visualization code\n",
        "# Chart - 10 visualization code\n",
        "plt.figure(figsize=(8,5))\n",
        "sns.countplot(x='CSAT Score', hue='category', data=data)\n",
        "plt.title('CSAT Score vs Category')\n",
        "plt.xlabel('CSAT Score')\n",
        "plt.ylabel('Count')\n",
        "plt.xticks(rotation=45)\n",
        "plt.tight_layout()\n",
        "plt.show()\n"
      ]
    },
    {
      "cell_type": "markdown",
      "metadata": {
        "id": "ylSl6qgtp1ck"
      },
      "source": [
        "##### 1. Why did you pick the specific chart? What are the insights? Does this have a positive business impact?"
      ]
    },
    {
      "cell_type": "markdown",
      "metadata": {
        "id": "m2xqNkiQp1ck"
      },
      "source": [
        "I wanted to see CSAT scores split by category do provide more insight into which types of customer enquiries had the best satisfaction scores. We can see returns make up a huge proportion of CSAT Score 5 meaning customers who return items are very happy with customer service and this is definitely Shopzilla's strength. This does have a positive business impact as it shows that customer service with return based enquiries is high and this can be used as part of a marketing strategy in the future."
      ]
    },
    {
      "cell_type": "markdown",
      "metadata": {
        "id": "NC_X3p0fY2L0"
      },
      "source": [
        "#### Chart - 14 - Correlation Heatmap"
      ]
    },
    {
      "cell_type": "code",
      "execution_count": null,
      "metadata": {
        "id": "xyC9zolEZNRQ"
      },
      "outputs": [],
      "source": [
        "# Correlation Heatmap visualization code\n",
        "corr_matrix = data.corr(numeric_only=True)\n",
        "\n",
        "\n",
        "plt.figure(figsize=(8, 6))\n",
        "sns.heatmap(corr_matrix, annot=True, cmap='coolwarm', fmt='.2f', linewidths=0.5)\n",
        "plt.title('Correlation Matrix', fontsize=14)\n",
        "plt.tight_layout()\n",
        "plt.show()"
      ]
    },
    {
      "cell_type": "markdown",
      "metadata": {
        "id": "UV0SzAkaZNRQ"
      },
      "source": [
        "##### 1. Why did you pick the specific chart? What are the insights? Does this have a positive business impact?"
      ]
    },
    {
      "cell_type": "markdown",
      "metadata": {
        "id": "DVPuT8LYZNRQ"
      },
      "source": [
        "I chose a correlation matrix to visualise how correlated different features were. However as most of the features are categorical variables the correlation matrix is very simple. We know we must do lots of categorical encoding for the final ML model. This doesn't have any immediate positive impact."
      ]
    },
    {
      "cell_type": "markdown",
      "metadata": {
        "id": "q29F0dvdveiT"
      },
      "source": [
        "#### Chart - 15 - Pair Plot"
      ]
    },
    {
      "cell_type": "code",
      "execution_count": null,
      "metadata": {
        "id": "o58-TEIhveiU"
      },
      "outputs": [],
      "source": [
        "# Pair Plot visualization code\n",
        "# Create a pairplot for all numeric columns\n",
        "sns.pairplot(data, diag_kind='hist', corner=True)\n",
        "\n",
        "plt.suptitle('Pairplot of Numeric Variables', y=1.02, fontsize=14)\n",
        "plt.show()"
      ]
    },
    {
      "cell_type": "markdown",
      "metadata": {
        "id": "EXh0U9oCveiU"
      },
      "source": [
        "##### 1. Why did you pick the specific chart? What are the insights? Does this have a positive business impact?"
      ]
    },
    {
      "cell_type": "markdown",
      "metadata": {
        "id": "eMmPjTByveiU"
      },
      "source": [
        "I chose a pairplot to visualise different bivariate charts and if there are any correlations between the numeric variables. However as most of the variables are categorical variables, the pair plot is quite bare. There is no immediate positive business impact."
      ]
    },
    {
      "cell_type": "markdown",
      "metadata": {
        "id": "uPQ8RGwHveiV"
      },
      "source": [
        "Answer Here"
      ]
    },
    {
      "cell_type": "markdown",
      "metadata": {
        "id": "yLjJCtPM0KBk"
      },
      "source": [
        "## ***6. Feature Engineering & Data Pre-processing***"
      ]
    },
    {
      "cell_type": "markdown",
      "source": [
        "### 1. Converting dates to datetimes"
      ],
      "metadata": {
        "id": "C-V_HBPhMzBd"
      }
    },
    {
      "cell_type": "code",
      "source": [
        "# Convert dates to datetime\n",
        "data['Survey_response_Date'] = pd.to_datetime(data['Survey_response_Date'], dayfirst=True)\n",
        "data = data.sort_values('Survey_response_Date')\n",
        "\n",
        "# Select features\n",
        "features = [\n",
        "    'channel_name', 'category', 'Sub-category',\n",
        "    'Agent_name', 'Supervisor', 'Manager',\n",
        "    'Tenure Bucket', 'Agent Shift'\n",
        "]\n"
      ],
      "metadata": {
        "id": "s_5TJ9qNMqQU"
      },
      "execution_count": null,
      "outputs": []
    },
    {
      "cell_type": "code",
      "source": [
        "target = 'CSAT Score'"
      ],
      "metadata": {
        "id": "_cQB8ujvOcDD"
      },
      "execution_count": null,
      "outputs": []
    },
    {
      "cell_type": "markdown",
      "source": [
        "### 2. Encoding categorical variables"
      ],
      "metadata": {
        "id": "nT5ycn2SM3sn"
      }
    },
    {
      "cell_type": "code",
      "source": [
        "# Encode categorical variables\n",
        "encoder = LabelEncoder()\n",
        "for col in features:\n",
        "    data[col] = encoder.fit_transform(data[col])"
      ],
      "metadata": {
        "id": "z-EHEZ9iM7Oc"
      },
      "execution_count": null,
      "outputs": []
    },
    {
      "cell_type": "markdown",
      "source": [
        "### 3. Assigning X and y"
      ],
      "metadata": {
        "id": "QxT3RUtDM7ew"
      }
    },
    {
      "cell_type": "code",
      "source": [
        "# Feature matrix (X) and target (y)\n",
        "X = data[features]\n",
        "y = data[target]"
      ],
      "metadata": {
        "id": "OOuUGC7qM_MB"
      },
      "execution_count": null,
      "outputs": []
    },
    {
      "cell_type": "markdown",
      "source": [
        "### 4. Normalising data"
      ],
      "metadata": {
        "id": "LOUWrUCtNAzU"
      }
    },
    {
      "cell_type": "code",
      "source": [
        "# Normalize data\n",
        "scaler_X = MinMaxScaler()\n",
        "scaler_y = MinMaxScaler()\n",
        "\n",
        "X_scaled = scaler_X.fit_transform(X)\n",
        "y_scaled = scaler_y.fit_transform(y.values.reshape(-1, 1))"
      ],
      "metadata": {
        "id": "-IdO02cfNEZk"
      },
      "execution_count": null,
      "outputs": []
    },
    {
      "cell_type": "markdown",
      "source": [
        "### 5. Creating sequences for the model"
      ],
      "metadata": {
        "id": "Da7v2jL_NEmG"
      }
    },
    {
      "cell_type": "code",
      "source": [
        "#Create sequences\n",
        "def create_sequences(X, y, time_steps=10):\n",
        "    Xs, ys = [], []\n",
        "    for i in range(len(X) - time_steps):\n",
        "        Xs.append(X[i:(i+time_steps)])\n",
        "        ys.append(y[i+time_steps])\n",
        "    return np.array(Xs), np.array(ys)\n",
        "\n",
        "time_steps = 10\n",
        "X_seq, y_seq = create_sequences(X_scaled, y_scaled, time_steps)\n"
      ],
      "metadata": {
        "id": "wkILMf3mNHDs"
      },
      "execution_count": null,
      "outputs": []
    },
    {
      "cell_type": "markdown",
      "source": [
        "### 6. Train-Test Split"
      ],
      "metadata": {
        "id": "kCCPFd8vNIYh"
      }
    },
    {
      "cell_type": "code",
      "source": [
        "#split into train test splits\n",
        "X_train, X_test, y_train, y_test = train_test_split(\n",
        "    X_seq, y_seq, test_size=0.2, shuffle=False\n",
        ")\n"
      ],
      "metadata": {
        "id": "YM_tYxVVNbcm"
      },
      "execution_count": null,
      "outputs": []
    },
    {
      "cell_type": "markdown",
      "source": [
        "## ***7. Model Implementation***\n"
      ],
      "metadata": {
        "id": "vaCmYGUZNQAS"
      }
    },
    {
      "cell_type": "code",
      "source": [
        "model = Sequential([\n",
        "    LSTM(64, return_sequences=True, input_shape=(X_train.shape[1], X_train.shape[2])),\n",
        "    Dropout(0.2),\n",
        "    LSTM(32, return_sequences=False),\n",
        "    Dropout(0.2),\n",
        "    Dense(16, activation='relu'),\n",
        "    Dense(1)\n",
        "])\n",
        "\n",
        "\n",
        "\n",
        "model.compile(optimizer='adam', loss='mse')"
      ],
      "metadata": {
        "id": "5VrMrXq5NS2S"
      },
      "execution_count": null,
      "outputs": []
    },
    {
      "cell_type": "code",
      "source": [
        "es = EarlyStopping(monitor='val_loss', patience=10, restore_best_weights=True)\n",
        "\n",
        "history = model.fit(\n",
        "    X_train, y_train,\n",
        "    validation_data=(X_test, y_test),\n",
        "    epochs=50,\n",
        "    batch_size=32,\n",
        "    callbacks=[es],\n",
        "    verbose=1\n",
        ")\n"
      ],
      "metadata": {
        "id": "ZVLESYxWNgdh"
      },
      "execution_count": null,
      "outputs": []
    },
    {
      "cell_type": "code",
      "source": [
        "last_sequence = X_scaled[-time_steps:]\n",
        "future_preds = []\n",
        "\n",
        "for _ in range(7):  #predict 7 days ahead\n",
        "    pred = model.predict(last_sequence.reshape(1, time_steps, X_scaled.shape[1]))\n",
        "    future_preds.append(pred[0,0])\n",
        "\n",
        "    # Append prediction to sequence (for iterative forecasting)\n",
        "    new_row = np.append(X_scaled[-1][1:], pred[0,0])  # shift and add prediction\n",
        "    last_sequence = np.vstack([last_sequence[1:], new_row])\n",
        "\n",
        "# Inverse scale\n",
        "future_preds = scaler_y.inverse_transform(np.array(future_preds).reshape(-1,1))\n",
        "print(\"Future 7-day CSAT forecast:\", future_preds.flatten())\n"
      ],
      "metadata": {
        "id": "iwzOgT8aNlio"
      },
      "execution_count": null,
      "outputs": []
    },
    {
      "cell_type": "code",
      "source": [
        "from sklearn.metrics import mean_squared_error, mean_absolute_error\n",
        "import numpy as np\n",
        "\n",
        "y_pred = model.predict(X_test)\n",
        "y_pred_inv = scaler_y.inverse_transform(y_pred)\n",
        "\n",
        "y_test_inv = scaler_y.inverse_transform(y_test)\n",
        "\n",
        "rmse = np.sqrt(mean_squared_error(y_test_inv, y_pred_inv))\n",
        "mae = mean_absolute_error(y_test_inv, y_pred_inv)\n",
        "\n",
        "print(f\"Test RMSE: {rmse:.4f}\")\n",
        "print(f\"Test MAE: {mae:.4f}\")\n"
      ],
      "metadata": {
        "id": "ezs5kb5sNn4n"
      },
      "execution_count": null,
      "outputs": []
    },
    {
      "cell_type": "code",
      "source": [],
      "metadata": {
        "id": "PgT1tDHzI1zE"
      },
      "execution_count": null,
      "outputs": []
    },
    {
      "cell_type": "markdown",
      "source": [
        "### 2nd Model with Hyperparameter Tuning"
      ],
      "metadata": {
        "id": "m9kje0j0RTpG"
      }
    },
    {
      "cell_type": "code",
      "source": [
        "!pip install -q keras-tuner\n"
      ],
      "metadata": {
        "id": "oxNc2TaeSIsc"
      },
      "execution_count": null,
      "outputs": []
    },
    {
      "cell_type": "code",
      "source": [
        "import keras_tuner as kt\n",
        "from tensorflow.keras.models import Sequential\n",
        "from tensorflow.keras.layers import LSTM, Dense, Dropout\n",
        "from tensorflow.keras.optimizers import Adam\n",
        "\n",
        "def build_model(hp):\n",
        "    model = Sequential()\n",
        "\n",
        "    # Tune units\n",
        "    units = hp.Choice('units', [32, 64, 128])\n",
        "    model.add(LSTM(units, input_shape=(X_train.shape[1], X_train.shape[2])))\n",
        "\n",
        "    # Tune dropout\n",
        "    dropout = hp.Float('dropout', 0.1, 0.3, step=0.1)\n",
        "    model.add(Dropout(dropout))\n",
        "\n",
        "    model.add(Dense(1))\n",
        "\n",
        "    # Tune learning rate\n",
        "    lr = hp.Choice('learning_rate', [0.001, 0.005, 0.01])\n",
        "    model.compile(optimizer=Adam(learning_rate=lr), loss='mae')\n",
        "\n",
        "    return model\n",
        "\n"
      ],
      "metadata": {
        "id": "0se7CHvTRV0o"
      },
      "execution_count": null,
      "outputs": []
    },
    {
      "cell_type": "code",
      "source": [],
      "metadata": {
        "id": "GcTIFjQVUNvt"
      },
      "execution_count": null,
      "outputs": []
    },
    {
      "cell_type": "code",
      "source": [
        "tuner = kt.RandomSearch(\n",
        "    build_model,\n",
        "    objective='val_loss',  # you can also use 'mae'\n",
        "    max_trials=10,          # number of hyperparameter combinations\n",
        "    executions_per_trial=1,\n",
        "    directory='my_dir',\n",
        "    project_name='csat_lstm'\n",
        ")\n"
      ],
      "metadata": {
        "id": "knw7shLgRYH6"
      },
      "execution_count": null,
      "outputs": []
    },
    {
      "cell_type": "code",
      "source": [
        "val_split = 0.2\n",
        "val_size = int(len(X_train) * val_split)\n",
        "\n",
        "X_train_tune = X_train[:-val_size]\n",
        "y_train_tune = y_train[:-val_size]\n",
        "\n",
        "X_val_tune = X_train[-val_size:]\n",
        "y_val_tune = y_train[-val_size:]\n"
      ],
      "metadata": {
        "id": "nZKe-2s3RbuE"
      },
      "execution_count": null,
      "outputs": []
    },
    {
      "cell_type": "code",
      "source": [
        "from tensorflow.keras.callbacks import EarlyStopping\n",
        "\n",
        "es = EarlyStopping(monitor='val_loss', patience=3)\n",
        "tuner.search(X_train_tune, y_train_tune,\n",
        "             epochs=20,\n",
        "             batch_size=32,\n",
        "             validation_data=(X_val_tune, y_val_tune),\n",
        "             callbacks=[es])\n"
      ],
      "metadata": {
        "id": "fVbGUJldSQh4"
      },
      "execution_count": null,
      "outputs": []
    },
    {
      "cell_type": "code",
      "source": [
        "best_model = tuner.get_best_models(num_models=1)[0]"
      ],
      "metadata": {
        "id": "x2U6r57OaZML"
      },
      "execution_count": null,
      "outputs": []
    },
    {
      "cell_type": "code",
      "source": [
        "best_model.compile(optimizer=best_model.optimizer, loss='mae', metrics=['mae'])\n",
        "loss, mae = best_model.evaluate(X_test, y_test)\n",
        "print(f'Test MAE: {mae:.4f}')\n",
        "\n"
      ],
      "metadata": {
        "id": "PagaK0rfSSLN"
      },
      "execution_count": null,
      "outputs": []
    },
    {
      "cell_type": "markdown",
      "source": [
        "Here we can see there is an improvement in scores as the mae has decreased."
      ],
      "metadata": {
        "id": "CEJXgSCCI1Fc"
      }
    },
    {
      "cell_type": "code",
      "execution_count": null,
      "metadata": {
        "id": "bQIANRl32f4J"
      },
      "outputs": [],
      "source": []
    },
    {
      "cell_type": "markdown",
      "metadata": {
        "id": "gCX9965dhzqZ"
      },
      "source": [
        "# **Conclusion**"
      ]
    },
    {
      "cell_type": "markdown",
      "metadata": {
        "id": "Fjb1IsQkh3yE"
      },
      "source": [
        "Write the conclusion here."
      ]
    }
  ],
  "metadata": {
    "accelerator": "GPU",
    "colab": {
      "gpuType": "T4",
      "private_outputs": true,
      "provenance": []
    },
    "kernelspec": {
      "display_name": "Python 3",
      "name": "python3"
    },
    "language_info": {
      "codemirror_mode": {
        "name": "ipython",
        "version": 3
      },
      "file_extension": ".py",
      "mimetype": "text/x-python",
      "name": "python",
      "nbconvert_exporter": "python",
      "pygments_lexer": "ipython3",
      "version": "3.12.7"
    }
  },
  "nbformat": 4,
  "nbformat_minor": 0
}
